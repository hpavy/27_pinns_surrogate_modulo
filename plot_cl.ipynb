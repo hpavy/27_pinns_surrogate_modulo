{
 "cells": [
  {
   "cell_type": "markdown",
   "metadata": {},
   "source": [
    "## On plot les courbes Cl"
   ]
  },
  {
   "cell_type": "code",
   "execution_count": 1,
   "metadata": {},
   "outputs": [],
   "source": [
    "import numpy as np\n",
    "import torch \n",
    "from model import PINNs\n",
    "import pandas as pd\n",
    "from utils import charge_data\n",
    "import json\n",
    "import matplotlib.pyplot as plt\n",
    "from plot_results import  plot_loss_decompose, plot_points, plot_loss\n",
    "from model import PINNs\n",
    "from utils import charge_data\n",
    "import json\n",
    "import torch\n",
    "import matplotlib.pyplot as plt\n",
    "from matplotlib.animation import FuncAnimation\n",
    "import os\n",
    "import numpy as np\n",
    "from model import pde\n",
    "import time as time\n",
    "import pandas as pd\n",
    "from geometry import RectangleWithoutCylinder"
   ]
  },
  {
   "cell_type": "code",
   "execution_count": 26,
   "metadata": {},
   "outputs": [],
   "source": [
    "folder_name = \"15_new_pde\"\n",
    "epoch = \"epoch400\""
   ]
  },
  {
   "cell_type": "code",
   "execution_count": 27,
   "metadata": {},
   "outputs": [],
   "source": [
    "param_adim = {\"V\": 1.0, \"L\": 0.025, \"rho\": 1.2}"
   ]
  },
  {
   "cell_type": "code",
   "execution_count": 28,
   "metadata": {},
   "outputs": [
    {
     "name": "stderr",
     "output_type": "stream",
     "text": [
      "/tmp/ipykernel_39486/2119057137.py:4: FutureWarning: You are using `torch.load` with `weights_only=False` (the current default value), which uses the default pickle module implicitly. It is possible to construct malicious pickle data which will execute arbitrary code during unpickling (See https://github.com/pytorch/pytorch/blob/main/SECURITY.md#untrusted-models for more details). In a future release, the default value for `weights_only` will be flipped to `True`. This limits the functions that could be executed during unpickling. Arbitrary objects will no longer be allowed to be loaded via this mode unless they are explicitly allowlisted by the user via `torch.serialization.add_safe_globals`. We recommend you start setting `weights_only=True` for any use case where you don't have full control of the loaded file. Please open an issue on GitHub for any issues related to this experimental feature.\n",
      "  checkpoint = torch.load(\n"
     ]
    },
    {
     "name": "stdout",
     "output_type": "stream",
     "text": [
      "fichier n°0 chargé\n",
      "fichier n°1 chargé\n",
      "fichier n°2 chargé\n",
      "fichier n°3 chargé\n",
      "fichier n°4 chargé\n",
      "Starting X_train\n",
      "Simu n°0/5\n",
      "Time:98.088\n",
      "Simu n°1/5\n",
      "Time:146.711\n",
      "Simu n°2/5\n",
      "Time:195.209\n",
      "Simu n°3/5\n",
      "Time:205.008\n",
      "Simu n°4/5\n",
      "Time:219.310\n",
      "X_train OK\n",
      "X_border OK\n",
      "X_pde OK\n"
     ]
    }
   ],
   "source": [
    "with open(\"results/\" + folder_name + \"/hyper_param.json\", \"r\") as file:\n",
    "    hyper_param = json.load(file)\n",
    "model = PINNs(hyper_param)\n",
    "checkpoint = torch.load(\n",
    "    \"results/\" + folder_name + \"/\" + epoch + \"/\" + \"model_weights.pth\",\n",
    "    map_location=torch.device(\"cpu\"),\n",
    ")\n",
    "model.load_state_dict(checkpoint[\"model_state_dict\"])\n",
    "X_train, U_train, X_full, U_full, X_border, X_border_test, mean_std, X_pde, X_test_pde, X_test_data, U_test_data = charge_data(\n",
    "    hyper_param, param_adim\n",
    ")"
   ]
  },
  {
   "cell_type": "code",
   "execution_count": 29,
   "metadata": {},
   "outputs": [],
   "source": [
    "def true_cl(num, case, time_init, time_max):\n",
    "    \"\"\"\n",
    "    Args:\n",
    "        num (int): Le numéro du modèle\n",
    "        case (int): Le numéro du case\n",
    "        time_init (float): le temps initial \n",
    "        time_max (float): le temps max\n",
    "\n",
    "\n",
    "    Returns:\n",
    "        time (np.array):  les valeurs de temps\n",
    "        cl (np.array): la valeur de cl à ces temps\n",
    "    \"\"\"\n",
    "    df = pd.read_csv(f'results_Cl/model_{num}_case_{case}/Cl.csv', index_col=False)\n",
    "    df_modified = df[((df.iloc[:, 2] > time_init) & (df.iloc[:, 2] < time_max))]\n",
    "    time = df_modified.iloc[:, 2].to_numpy()\n",
    "    cl = df_modified.iloc[:, 1].to_numpy()\n",
    "    return time, cl\n"
   ]
  },
  {
   "cell_type": "markdown",
   "metadata": {},
   "source": [
    "On a pour la force de portance : \n",
    "\n",
    "$\n",
    "\\overrightarrow{F_p}=-\\int_{\\theta=0}^{2\\pi}(P(\\theta)sin(\\theta)rd\\theta) \\overrightarrow{u_y}\n",
    "$"
   ]
  },
  {
   "cell_type": "code",
   "execution_count": 30,
   "metadata": {},
   "outputs": [],
   "source": [
    "def P(theta, t, ya0, model, param_adim, mean_std, r = 0.025 / 2):\n",
    "    \"\"\"\n",
    "    Args:\n",
    "        theta (torch.tensor): les theta où on veut calculer\n",
    "        t_ad (torch.tensor): Les temps où on veut la pression en theta\n",
    "        ya0 (float) : la valeur d'amplitude pour estimer notre pression\n",
    "        model (torch.model): le NN qui prédit \n",
    "        param_adim (dict): dictionnaire des param d'adim\n",
    "        mean_std (dict): donne de quoi faire la normalisation Z\n",
    "        r (float): le rayon du cylindre\n",
    "\n",
    "    Returns:\n",
    "        P (torch.tensor):  les valeurs de pression sur le cylindre\n",
    "    \"\"\"\n",
    "    x = r * torch.cos(theta)\n",
    "    y = r * torch.sin(theta)\n",
    "    x_ad = ((x / param_adim['L']) - mean_std['x_mean'])/mean_std['x_std']\n",
    "    y_ad = ((y / param_adim['L']) - mean_std['y_mean'])/mean_std['y_std']\n",
    "    t_ad = ((t / (param_adim['L']/param_adim['V'])) - mean_std['t_mean']) / mean_std['t_std']\n",
    "    ya0_ad = torch.ones_like(x_ad) * ((ya0 / param_adim['L']) - mean_std['ya0_mean']) / mean_std['ya0_std']\n",
    "    X = torch.stack((x_ad, y_ad, t_ad, ya0_ad), dim=1)\n",
    "    P_adim = model(X)[:, 2]\n",
    "    P = ((P_adim * mean_std['p_std'] + mean_std['p_mean']))*((param_adim['V']**2)*param_adim['rho'])\n",
    "    return P"
   ]
  },
  {
   "cell_type": "code",
   "execution_count": 31,
   "metadata": {},
   "outputs": [],
   "source": [
    "def predict_cl(t, ya0, model, param_adim, mean_std, r=0.025 / 2, nb_disc_theta=500):\n",
    "    \"\"\"\n",
    "    Args:\n",
    "        t_ad (torch.tensor): Les temps où on veut Cl\n",
    "        ya0 (float) : la valeur d'amplitude pour estimer notre Cl\n",
    "        model (torch.model): le NN qui prédit \n",
    "        param_adim (dict): dictionnaire des param d'adim\n",
    "        mean_std (dict): donne de quoi faire la normalisation Z\n",
    "        r (float): le rayon du cylindre\n",
    "        nb_disc_theta(int): sur combien de theta on discrétise\n",
    "\n",
    "    Returns:\n",
    "        Cl (torch.float):  les valeurs de pression sur le cylindre\n",
    "    \"\"\"\n",
    "    time_repeat = torch.repeat_interleave(t, repeats=nb_disc_theta)\n",
    "    d_theta = 2 * torch.pi / nb_disc_theta\n",
    "    theta_int = torch.linspace(0, 2*torch.pi, nb_disc_theta)\n",
    "    theta_tot = theta_int.repeat(t.shape[0])\n",
    "    pressure_tot = P(theta_tot, time_repeat, ya0, model, param_adim, mean_std, r = 0.025 / 2).reshape(t.shape[0], nb_disc_theta) # (t.shape, nb_disc_theta)\n",
    "    in_sum = pressure_tot * torch.sin(theta_int) * r * d_theta\n",
    "    portance = - torch.sum(in_sum, dim=1)\n",
    "    return portance / (0.5 * param_adim['rho'] * param_adim['V']**2 * 2 * r)"
   ]
  },
  {
   "cell_type": "code",
   "execution_count": 32,
   "metadata": {},
   "outputs": [],
   "source": [
    "t = torch.linspace(hyper_param['t_min'], hyper_param['t_max'], 1000)\n",
    "\n"
   ]
  },
  {
   "cell_type": "code",
   "execution_count": 33,
   "metadata": {},
   "outputs": [],
   "source": [
    "ya0_L = [\n",
    "    0.00125,\n",
    "    0.00375,\n",
    "    0.00625,\n",
    "    0.00875,\n",
    "    0.01\n",
    "]\n",
    "num_L = [4, 5, 7, 9, 1]"
   ]
  },
  {
   "cell_type": "code",
   "execution_count": 34,
   "metadata": {},
   "outputs": [
    {
     "ename": "FileNotFoundError",
     "evalue": "[Errno 2] No such file or directory: 'results/15_new_pde/ya0_1.25e-03/cl.png'",
     "output_type": "error",
     "traceback": [
      "\u001b[0;31m---------------------------------------------------------------------------\u001b[0m",
      "\u001b[0;31mFileNotFoundError\u001b[0m                         Traceback (most recent call last)",
      "Cell \u001b[0;32mIn[34], line 15\u001b[0m\n\u001b[1;32m     13\u001b[0m plt\u001b[38;5;241m.\u001b[39myticks(fontsize\u001b[38;5;241m=\u001b[39m\u001b[38;5;241m12\u001b[39m)  \u001b[38;5;66;03m# Taille des ticks de l'axe y\u001b[39;00m\n\u001b[1;32m     14\u001b[0m plt\u001b[38;5;241m.\u001b[39mtight_layout()  \u001b[38;5;66;03m# Ajuste le layout pour éviter le chevauchement\u001b[39;00m\n\u001b[0;32m---> 15\u001b[0m \u001b[43mplt\u001b[49m\u001b[38;5;241;43m.\u001b[39;49m\u001b[43msavefig\u001b[49m\u001b[43m(\u001b[49m\u001b[38;5;124;43m'\u001b[39;49m\u001b[38;5;124;43mresults/\u001b[39;49m\u001b[38;5;124;43m'\u001b[39;49m\u001b[43m \u001b[49m\u001b[38;5;241;43m+\u001b[39;49m\u001b[43m \u001b[49m\u001b[43mfolder_name\u001b[49m\u001b[43m \u001b[49m\u001b[38;5;241;43m+\u001b[39;49m\u001b[43m \u001b[49m\u001b[38;5;124;43mf\u001b[39;49m\u001b[38;5;124;43m'\u001b[39;49m\u001b[38;5;124;43m/ya0_\u001b[39;49m\u001b[38;5;132;43;01m{\u001b[39;49;00m\u001b[43mya0\u001b[49m\u001b[38;5;132;43;01m:\u001b[39;49;00m\u001b[38;5;124;43m.2e\u001b[39;49m\u001b[38;5;132;43;01m}\u001b[39;49;00m\u001b[38;5;124;43m/cl.png\u001b[39;49m\u001b[38;5;124;43m'\u001b[39;49m\u001b[43m)\u001b[49m\n\u001b[1;32m     16\u001b[0m plt\u001b[38;5;241m.\u001b[39mshow()\n",
      "File \u001b[0;32m/opt/conda/lib/python3.12/site-packages/matplotlib/pyplot.py:1243\u001b[0m, in \u001b[0;36msavefig\u001b[0;34m(*args, **kwargs)\u001b[0m\n\u001b[1;32m   1240\u001b[0m fig \u001b[38;5;241m=\u001b[39m gcf()\n\u001b[1;32m   1241\u001b[0m \u001b[38;5;66;03m# savefig default implementation has no return, so mypy is unhappy\u001b[39;00m\n\u001b[1;32m   1242\u001b[0m \u001b[38;5;66;03m# presumably this is here because subclasses can return?\u001b[39;00m\n\u001b[0;32m-> 1243\u001b[0m res \u001b[38;5;241m=\u001b[39m \u001b[43mfig\u001b[49m\u001b[38;5;241;43m.\u001b[39;49m\u001b[43msavefig\u001b[49m\u001b[43m(\u001b[49m\u001b[38;5;241;43m*\u001b[39;49m\u001b[43margs\u001b[49m\u001b[43m,\u001b[49m\u001b[43m \u001b[49m\u001b[38;5;241;43m*\u001b[39;49m\u001b[38;5;241;43m*\u001b[39;49m\u001b[43mkwargs\u001b[49m\u001b[43m)\u001b[49m  \u001b[38;5;66;03m# type: ignore[func-returns-value]\u001b[39;00m\n\u001b[1;32m   1244\u001b[0m fig\u001b[38;5;241m.\u001b[39mcanvas\u001b[38;5;241m.\u001b[39mdraw_idle()  \u001b[38;5;66;03m# Need this if 'transparent=True', to reset colors.\u001b[39;00m\n\u001b[1;32m   1245\u001b[0m \u001b[38;5;28;01mreturn\u001b[39;00m res\n",
      "File \u001b[0;32m/opt/conda/lib/python3.12/site-packages/matplotlib/figure.py:3490\u001b[0m, in \u001b[0;36mFigure.savefig\u001b[0;34m(self, fname, transparent, **kwargs)\u001b[0m\n\u001b[1;32m   3488\u001b[0m     \u001b[38;5;28;01mfor\u001b[39;00m ax \u001b[38;5;129;01min\u001b[39;00m \u001b[38;5;28mself\u001b[39m\u001b[38;5;241m.\u001b[39maxes:\n\u001b[1;32m   3489\u001b[0m         _recursively_make_axes_transparent(stack, ax)\n\u001b[0;32m-> 3490\u001b[0m \u001b[38;5;28;43mself\u001b[39;49m\u001b[38;5;241;43m.\u001b[39;49m\u001b[43mcanvas\u001b[49m\u001b[38;5;241;43m.\u001b[39;49m\u001b[43mprint_figure\u001b[49m\u001b[43m(\u001b[49m\u001b[43mfname\u001b[49m\u001b[43m,\u001b[49m\u001b[43m \u001b[49m\u001b[38;5;241;43m*\u001b[39;49m\u001b[38;5;241;43m*\u001b[39;49m\u001b[43mkwargs\u001b[49m\u001b[43m)\u001b[49m\n",
      "File \u001b[0;32m/opt/conda/lib/python3.12/site-packages/matplotlib/backend_bases.py:2184\u001b[0m, in \u001b[0;36mFigureCanvasBase.print_figure\u001b[0;34m(self, filename, dpi, facecolor, edgecolor, orientation, format, bbox_inches, pad_inches, bbox_extra_artists, backend, **kwargs)\u001b[0m\n\u001b[1;32m   2180\u001b[0m \u001b[38;5;28;01mtry\u001b[39;00m:\n\u001b[1;32m   2181\u001b[0m     \u001b[38;5;66;03m# _get_renderer may change the figure dpi (as vector formats\u001b[39;00m\n\u001b[1;32m   2182\u001b[0m     \u001b[38;5;66;03m# force the figure dpi to 72), so we need to set it again here.\u001b[39;00m\n\u001b[1;32m   2183\u001b[0m     \u001b[38;5;28;01mwith\u001b[39;00m cbook\u001b[38;5;241m.\u001b[39m_setattr_cm(\u001b[38;5;28mself\u001b[39m\u001b[38;5;241m.\u001b[39mfigure, dpi\u001b[38;5;241m=\u001b[39mdpi):\n\u001b[0;32m-> 2184\u001b[0m         result \u001b[38;5;241m=\u001b[39m \u001b[43mprint_method\u001b[49m\u001b[43m(\u001b[49m\n\u001b[1;32m   2185\u001b[0m \u001b[43m            \u001b[49m\u001b[43mfilename\u001b[49m\u001b[43m,\u001b[49m\n\u001b[1;32m   2186\u001b[0m \u001b[43m            \u001b[49m\u001b[43mfacecolor\u001b[49m\u001b[38;5;241;43m=\u001b[39;49m\u001b[43mfacecolor\u001b[49m\u001b[43m,\u001b[49m\n\u001b[1;32m   2187\u001b[0m \u001b[43m            \u001b[49m\u001b[43medgecolor\u001b[49m\u001b[38;5;241;43m=\u001b[39;49m\u001b[43medgecolor\u001b[49m\u001b[43m,\u001b[49m\n\u001b[1;32m   2188\u001b[0m \u001b[43m            \u001b[49m\u001b[43morientation\u001b[49m\u001b[38;5;241;43m=\u001b[39;49m\u001b[43morientation\u001b[49m\u001b[43m,\u001b[49m\n\u001b[1;32m   2189\u001b[0m \u001b[43m            \u001b[49m\u001b[43mbbox_inches_restore\u001b[49m\u001b[38;5;241;43m=\u001b[39;49m\u001b[43m_bbox_inches_restore\u001b[49m\u001b[43m,\u001b[49m\n\u001b[1;32m   2190\u001b[0m \u001b[43m            \u001b[49m\u001b[38;5;241;43m*\u001b[39;49m\u001b[38;5;241;43m*\u001b[39;49m\u001b[43mkwargs\u001b[49m\u001b[43m)\u001b[49m\n\u001b[1;32m   2191\u001b[0m \u001b[38;5;28;01mfinally\u001b[39;00m:\n\u001b[1;32m   2192\u001b[0m     \u001b[38;5;28;01mif\u001b[39;00m bbox_inches \u001b[38;5;129;01mand\u001b[39;00m restore_bbox:\n",
      "File \u001b[0;32m/opt/conda/lib/python3.12/site-packages/matplotlib/backend_bases.py:2040\u001b[0m, in \u001b[0;36mFigureCanvasBase._switch_canvas_and_return_print_method.<locals>.<lambda>\u001b[0;34m(*args, **kwargs)\u001b[0m\n\u001b[1;32m   2036\u001b[0m     optional_kws \u001b[38;5;241m=\u001b[39m {  \u001b[38;5;66;03m# Passed by print_figure for other renderers.\u001b[39;00m\n\u001b[1;32m   2037\u001b[0m         \u001b[38;5;124m\"\u001b[39m\u001b[38;5;124mdpi\u001b[39m\u001b[38;5;124m\"\u001b[39m, \u001b[38;5;124m\"\u001b[39m\u001b[38;5;124mfacecolor\u001b[39m\u001b[38;5;124m\"\u001b[39m, \u001b[38;5;124m\"\u001b[39m\u001b[38;5;124medgecolor\u001b[39m\u001b[38;5;124m\"\u001b[39m, \u001b[38;5;124m\"\u001b[39m\u001b[38;5;124morientation\u001b[39m\u001b[38;5;124m\"\u001b[39m,\n\u001b[1;32m   2038\u001b[0m         \u001b[38;5;124m\"\u001b[39m\u001b[38;5;124mbbox_inches_restore\u001b[39m\u001b[38;5;124m\"\u001b[39m}\n\u001b[1;32m   2039\u001b[0m     skip \u001b[38;5;241m=\u001b[39m optional_kws \u001b[38;5;241m-\u001b[39m {\u001b[38;5;241m*\u001b[39minspect\u001b[38;5;241m.\u001b[39msignature(meth)\u001b[38;5;241m.\u001b[39mparameters}\n\u001b[0;32m-> 2040\u001b[0m     print_method \u001b[38;5;241m=\u001b[39m functools\u001b[38;5;241m.\u001b[39mwraps(meth)(\u001b[38;5;28;01mlambda\u001b[39;00m \u001b[38;5;241m*\u001b[39margs, \u001b[38;5;241m*\u001b[39m\u001b[38;5;241m*\u001b[39mkwargs: \u001b[43mmeth\u001b[49m\u001b[43m(\u001b[49m\n\u001b[1;32m   2041\u001b[0m \u001b[43m        \u001b[49m\u001b[38;5;241;43m*\u001b[39;49m\u001b[43margs\u001b[49m\u001b[43m,\u001b[49m\u001b[43m \u001b[49m\u001b[38;5;241;43m*\u001b[39;49m\u001b[38;5;241;43m*\u001b[39;49m\u001b[43m{\u001b[49m\u001b[43mk\u001b[49m\u001b[43m:\u001b[49m\u001b[43m \u001b[49m\u001b[43mv\u001b[49m\u001b[43m \u001b[49m\u001b[38;5;28;43;01mfor\u001b[39;49;00m\u001b[43m \u001b[49m\u001b[43mk\u001b[49m\u001b[43m,\u001b[49m\u001b[43m \u001b[49m\u001b[43mv\u001b[49m\u001b[43m \u001b[49m\u001b[38;5;129;43;01min\u001b[39;49;00m\u001b[43m \u001b[49m\u001b[43mkwargs\u001b[49m\u001b[38;5;241;43m.\u001b[39;49m\u001b[43mitems\u001b[49m\u001b[43m(\u001b[49m\u001b[43m)\u001b[49m\u001b[43m \u001b[49m\u001b[38;5;28;43;01mif\u001b[39;49;00m\u001b[43m \u001b[49m\u001b[43mk\u001b[49m\u001b[43m \u001b[49m\u001b[38;5;129;43;01mnot\u001b[39;49;00m\u001b[43m \u001b[49m\u001b[38;5;129;43;01min\u001b[39;49;00m\u001b[43m \u001b[49m\u001b[43mskip\u001b[49m\u001b[43m}\u001b[49m\u001b[43m)\u001b[49m)\n\u001b[1;32m   2042\u001b[0m \u001b[38;5;28;01melse\u001b[39;00m:  \u001b[38;5;66;03m# Let third-parties do as they see fit.\u001b[39;00m\n\u001b[1;32m   2043\u001b[0m     print_method \u001b[38;5;241m=\u001b[39m meth\n",
      "File \u001b[0;32m/opt/conda/lib/python3.12/site-packages/matplotlib/backends/backend_agg.py:481\u001b[0m, in \u001b[0;36mFigureCanvasAgg.print_png\u001b[0;34m(self, filename_or_obj, metadata, pil_kwargs)\u001b[0m\n\u001b[1;32m    434\u001b[0m \u001b[38;5;28;01mdef\u001b[39;00m \u001b[38;5;21mprint_png\u001b[39m(\u001b[38;5;28mself\u001b[39m, filename_or_obj, \u001b[38;5;241m*\u001b[39m, metadata\u001b[38;5;241m=\u001b[39m\u001b[38;5;28;01mNone\u001b[39;00m, pil_kwargs\u001b[38;5;241m=\u001b[39m\u001b[38;5;28;01mNone\u001b[39;00m):\n\u001b[1;32m    435\u001b[0m \u001b[38;5;250m    \u001b[39m\u001b[38;5;124;03m\"\"\"\u001b[39;00m\n\u001b[1;32m    436\u001b[0m \u001b[38;5;124;03m    Write the figure to a PNG file.\u001b[39;00m\n\u001b[1;32m    437\u001b[0m \n\u001b[0;32m   (...)\u001b[0m\n\u001b[1;32m    479\u001b[0m \u001b[38;5;124;03m        *metadata*, including the default 'Software' key.\u001b[39;00m\n\u001b[1;32m    480\u001b[0m \u001b[38;5;124;03m    \"\"\"\u001b[39;00m\n\u001b[0;32m--> 481\u001b[0m     \u001b[38;5;28;43mself\u001b[39;49m\u001b[38;5;241;43m.\u001b[39;49m\u001b[43m_print_pil\u001b[49m\u001b[43m(\u001b[49m\u001b[43mfilename_or_obj\u001b[49m\u001b[43m,\u001b[49m\u001b[43m \u001b[49m\u001b[38;5;124;43m\"\u001b[39;49m\u001b[38;5;124;43mpng\u001b[39;49m\u001b[38;5;124;43m\"\u001b[39;49m\u001b[43m,\u001b[49m\u001b[43m \u001b[49m\u001b[43mpil_kwargs\u001b[49m\u001b[43m,\u001b[49m\u001b[43m \u001b[49m\u001b[43mmetadata\u001b[49m\u001b[43m)\u001b[49m\n",
      "File \u001b[0;32m/opt/conda/lib/python3.12/site-packages/matplotlib/backends/backend_agg.py:430\u001b[0m, in \u001b[0;36mFigureCanvasAgg._print_pil\u001b[0;34m(self, filename_or_obj, fmt, pil_kwargs, metadata)\u001b[0m\n\u001b[1;32m    425\u001b[0m \u001b[38;5;250m\u001b[39m\u001b[38;5;124;03m\"\"\"\u001b[39;00m\n\u001b[1;32m    426\u001b[0m \u001b[38;5;124;03mDraw the canvas, then save it using `.image.imsave` (to which\u001b[39;00m\n\u001b[1;32m    427\u001b[0m \u001b[38;5;124;03m*pil_kwargs* and *metadata* are forwarded).\u001b[39;00m\n\u001b[1;32m    428\u001b[0m \u001b[38;5;124;03m\"\"\"\u001b[39;00m\n\u001b[1;32m    429\u001b[0m FigureCanvasAgg\u001b[38;5;241m.\u001b[39mdraw(\u001b[38;5;28mself\u001b[39m)\n\u001b[0;32m--> 430\u001b[0m \u001b[43mmpl\u001b[49m\u001b[38;5;241;43m.\u001b[39;49m\u001b[43mimage\u001b[49m\u001b[38;5;241;43m.\u001b[39;49m\u001b[43mimsave\u001b[49m\u001b[43m(\u001b[49m\n\u001b[1;32m    431\u001b[0m \u001b[43m    \u001b[49m\u001b[43mfilename_or_obj\u001b[49m\u001b[43m,\u001b[49m\u001b[43m \u001b[49m\u001b[38;5;28;43mself\u001b[39;49m\u001b[38;5;241;43m.\u001b[39;49m\u001b[43mbuffer_rgba\u001b[49m\u001b[43m(\u001b[49m\u001b[43m)\u001b[49m\u001b[43m,\u001b[49m\u001b[43m \u001b[49m\u001b[38;5;28;43mformat\u001b[39;49m\u001b[38;5;241;43m=\u001b[39;49m\u001b[43mfmt\u001b[49m\u001b[43m,\u001b[49m\u001b[43m \u001b[49m\u001b[43morigin\u001b[49m\u001b[38;5;241;43m=\u001b[39;49m\u001b[38;5;124;43m\"\u001b[39;49m\u001b[38;5;124;43mupper\u001b[39;49m\u001b[38;5;124;43m\"\u001b[39;49m\u001b[43m,\u001b[49m\n\u001b[1;32m    432\u001b[0m \u001b[43m    \u001b[49m\u001b[43mdpi\u001b[49m\u001b[38;5;241;43m=\u001b[39;49m\u001b[38;5;28;43mself\u001b[39;49m\u001b[38;5;241;43m.\u001b[39;49m\u001b[43mfigure\u001b[49m\u001b[38;5;241;43m.\u001b[39;49m\u001b[43mdpi\u001b[49m\u001b[43m,\u001b[49m\u001b[43m \u001b[49m\u001b[43mmetadata\u001b[49m\u001b[38;5;241;43m=\u001b[39;49m\u001b[43mmetadata\u001b[49m\u001b[43m,\u001b[49m\u001b[43m \u001b[49m\u001b[43mpil_kwargs\u001b[49m\u001b[38;5;241;43m=\u001b[39;49m\u001b[43mpil_kwargs\u001b[49m\u001b[43m)\u001b[49m\n",
      "File \u001b[0;32m/opt/conda/lib/python3.12/site-packages/matplotlib/image.py:1634\u001b[0m, in \u001b[0;36mimsave\u001b[0;34m(fname, arr, vmin, vmax, cmap, format, origin, dpi, metadata, pil_kwargs)\u001b[0m\n\u001b[1;32m   1632\u001b[0m pil_kwargs\u001b[38;5;241m.\u001b[39msetdefault(\u001b[38;5;124m\"\u001b[39m\u001b[38;5;124mformat\u001b[39m\u001b[38;5;124m\"\u001b[39m, \u001b[38;5;28mformat\u001b[39m)\n\u001b[1;32m   1633\u001b[0m pil_kwargs\u001b[38;5;241m.\u001b[39msetdefault(\u001b[38;5;124m\"\u001b[39m\u001b[38;5;124mdpi\u001b[39m\u001b[38;5;124m\"\u001b[39m, (dpi, dpi))\n\u001b[0;32m-> 1634\u001b[0m \u001b[43mimage\u001b[49m\u001b[38;5;241;43m.\u001b[39;49m\u001b[43msave\u001b[49m\u001b[43m(\u001b[49m\u001b[43mfname\u001b[49m\u001b[43m,\u001b[49m\u001b[43m \u001b[49m\u001b[38;5;241;43m*\u001b[39;49m\u001b[38;5;241;43m*\u001b[39;49m\u001b[43mpil_kwargs\u001b[49m\u001b[43m)\u001b[49m\n",
      "File \u001b[0;32m/opt/conda/lib/python3.12/site-packages/PIL/Image.py:2591\u001b[0m, in \u001b[0;36mImage.save\u001b[0;34m(self, fp, format, **params)\u001b[0m\n\u001b[1;32m   2589\u001b[0m         fp \u001b[38;5;241m=\u001b[39m builtins\u001b[38;5;241m.\u001b[39mopen(filename, \u001b[38;5;124m\"\u001b[39m\u001b[38;5;124mr+b\u001b[39m\u001b[38;5;124m\"\u001b[39m)\n\u001b[1;32m   2590\u001b[0m     \u001b[38;5;28;01melse\u001b[39;00m:\n\u001b[0;32m-> 2591\u001b[0m         fp \u001b[38;5;241m=\u001b[39m \u001b[43mbuiltins\u001b[49m\u001b[38;5;241;43m.\u001b[39;49m\u001b[43mopen\u001b[49m\u001b[43m(\u001b[49m\u001b[43mfilename\u001b[49m\u001b[43m,\u001b[49m\u001b[43m \u001b[49m\u001b[38;5;124;43m\"\u001b[39;49m\u001b[38;5;124;43mw+b\u001b[39;49m\u001b[38;5;124;43m\"\u001b[39;49m\u001b[43m)\u001b[49m\n\u001b[1;32m   2592\u001b[0m \u001b[38;5;28;01melse\u001b[39;00m:\n\u001b[1;32m   2593\u001b[0m     fp \u001b[38;5;241m=\u001b[39m cast(IO[\u001b[38;5;28mbytes\u001b[39m], fp)\n",
      "\u001b[0;31mFileNotFoundError\u001b[0m: [Errno 2] No such file or directory: 'results/15_new_pde/ya0_1.25e-03/cl.png'"
     ]
    },
    {
     "data": {
      "image/png": "[encoded data removed]",
      "text/plain": [
       "<Figure size 640x480 with 1 Axes>"
      ]
     },
     "metadata": {},
     "output_type": "display_data"
    }
   ],
   "source": [
    "for ya0, num in zip(ya0_L, num_L):\n",
    "    cl_predict = predict_cl(t, ya0, model, param_adim, mean_std, nb_disc_theta=1000)\n",
    "    time, cl_true = true_cl(num=num, case=2, time_init=hyper_param['t_min'], time_max=hyper_param['t_max'])\n",
    "    with torch.no_grad():\n",
    "        plt.plot(t, cl_predict, color = 'red', label = 'Predict Cl', linewidth=0.8)\n",
    "        plt.plot(time, cl_true, label = 'True Cl', color='blue', linewidth=0.8)\n",
    "        plt.title('plot de Cl', fontsize=16, fontweight='bold')  # Titre\n",
    "        plt.xlabel('Temps (s)', fontsize=14)  # Label de l'axe x\n",
    "        plt.ylabel('Cl', fontsize=14)  # Label de l'axe y\n",
    "        plt.legend(loc='upper right', fontsize=12)  # Légende\n",
    "        plt.grid(alpha=0.7, linestyle= '--')  # Grille avec transparence\n",
    "        plt.xticks(fontsize=12)  # Taille des ticks de l'axe x\n",
    "        plt.yticks(fontsize=12)  # Taille des ticks de l'axe y\n",
    "        plt.tight_layout()  # Ajuste le layout pour éviter le chevauchement\n",
    "        plt.savefig('results/' + folder_name + f'/ya0_{ya0:.2e}/cl.png')\n",
    "        plt.show()\n",
    "    "
   ]
  },
  {
   "cell_type": "code",
   "execution_count": null,
   "metadata": {},
   "outputs": [],
   "source": []
  },
  {
   "cell_type": "code",
   "execution_count": 10,
   "metadata": {},
   "outputs": [],
   "source": [
    "ya0_L = [\n",
    "    0.0025,\n",
    "    0.005,\n",
    "    0.0075,\n",
    "    0.0175\n",
    "]\n",
    "num_L = [2, 6, 8, 3]"
   ]
  },
  {
   "cell_type": "code",
   "execution_count": null,
   "metadata": {},
   "outputs": [
    {
     "ename": "NameError",
     "evalue": "name 'mean_std' is not defined",
     "output_type": "error",
     "traceback": [
      "\u001b[0;31m---------------------------------------------------------------------------\u001b[0m",
      "\u001b[0;31mNameError\u001b[0m                                 Traceback (most recent call last)",
      "Cell \u001b[0;32mIn[11], line 2\u001b[0m\n\u001b[1;32m      1\u001b[0m \u001b[38;5;28;01mfor\u001b[39;00m ya0, num \u001b[38;5;129;01min\u001b[39;00m \u001b[38;5;28mzip\u001b[39m(ya0_L, num_L):\n\u001b[0;32m----> 2\u001b[0m     cl_predict \u001b[38;5;241m=\u001b[39m predict_cl(t, ya0, model, param_adim, \u001b[43mmean_std\u001b[49m, nb_disc_theta\u001b[38;5;241m=\u001b[39m\u001b[38;5;241m1000\u001b[39m)\n\u001b[1;32m      3\u001b[0m     time, cl_true \u001b[38;5;241m=\u001b[39m true_cl(num\u001b[38;5;241m=\u001b[39mnum, case\u001b[38;5;241m=\u001b[39m\u001b[38;5;241m2\u001b[39m, time_init\u001b[38;5;241m=\u001b[39mhyper_param[\u001b[38;5;124m'\u001b[39m\u001b[38;5;124mt_min\u001b[39m\u001b[38;5;124m'\u001b[39m], time_max\u001b[38;5;241m=\u001b[39mhyper_param[\u001b[38;5;124m'\u001b[39m\u001b[38;5;124mt_max\u001b[39m\u001b[38;5;124m'\u001b[39m])\n\u001b[1;32m      4\u001b[0m     \u001b[38;5;28;01mwith\u001b[39;00m torch\u001b[38;5;241m.\u001b[39mno_grad():\n",
      "\u001b[0;31mNameError\u001b[0m: name 'mean_std' is not defined"
     ]
    }
   ],
   "source": [
    "for ya0, num in zip(ya0_L, num_L):\n",
    "    cl_predict = predict_cl(t, ya0, model, param_adim, mean_std, nb_disc_theta=1000)\n",
    "    time, cl_true = true_cl(num=num, case=2, time_init=hyper_param['t_min'], time_max=hyper_param['t_max'])\n",
    "    with torch.no_grad():\n",
    "        plt.plot(t, cl_predict, color = 'red', label = 'Predict Cl', linewidth=0.8)\n",
    "        plt.plot(time, cl_true, label = 'True Cl', color='blue', linewidth=0.8)\n",
    "        plt.title('plot de Cl', fontsize=16, fontweight='bold')  # Titre\n",
    "        plt.xlabel('Temps (s)', fontsize=14)  # Label de l'axe x\n",
    "        plt.ylabel('Cl', fontsize=14)  # Label de l'axe y\n",
    "        plt.legend(loc='upper right', fontsize=12)  # Légende\n",
    "        plt.grid(alpha=0.7, linestyle= '--')  # Grille avec transparence\n",
    "        plt.xticks(fontsize=12)  # Taille des ticks de l'axe x\n",
    "        plt.yticks(fontsize=12)  # Taille des ticks de l'axe y\n",
    "        plt.tight_layout()  # Ajuste le layout pour éviter le chevauchement\n",
    "        plt.savefig('results/' + folder_name + f'/valid_ya0_{ya0:.2e}/cl.png')\n",
    "        plt.show()\n",
    "    "
   ]
  },
  {
   "cell_type": "code",
   "execution_count": 12,
   "metadata": {},
   "outputs": [],
   "source": [
    "ya0 = 1.75e-2\n",
    "num = 3"
   ]
  },
  {
   "cell_type": "code",
   "execution_count": null,
   "metadata": {},
   "outputs": [
    {
     "ename": "NameError",
     "evalue": "name 'mean_std' is not defined",
     "output_type": "error",
     "traceback": [
      "\u001b[0;31m---------------------------------------------------------------------------\u001b[0m",
      "\u001b[0;31mNameError\u001b[0m                                 Traceback (most recent call last)",
      "Cell \u001b[0;32mIn[13], line 1\u001b[0m\n\u001b[0;32m----> 1\u001b[0m cl_predict \u001b[38;5;241m=\u001b[39m predict_cl(t, ya0, model, param_adim, \u001b[43mmean_std\u001b[49m, nb_disc_theta\u001b[38;5;241m=\u001b[39m\u001b[38;5;241m1000\u001b[39m)\n\u001b[1;32m      2\u001b[0m time, cl_true \u001b[38;5;241m=\u001b[39m true_cl(num\u001b[38;5;241m=\u001b[39mnum, case\u001b[38;5;241m=\u001b[39m\u001b[38;5;241m2\u001b[39m, time_init\u001b[38;5;241m=\u001b[39mhyper_param[\u001b[38;5;124m'\u001b[39m\u001b[38;5;124mt_min\u001b[39m\u001b[38;5;124m'\u001b[39m], time_max\u001b[38;5;241m=\u001b[39mhyper_param[\u001b[38;5;124m'\u001b[39m\u001b[38;5;124mt_max\u001b[39m\u001b[38;5;124m'\u001b[39m])\n\u001b[1;32m      3\u001b[0m \u001b[38;5;28;01mwith\u001b[39;00m torch\u001b[38;5;241m.\u001b[39mno_grad():\n",
      "\u001b[0;31mNameError\u001b[0m: name 'mean_std' is not defined"
     ]
    }
   ],
   "source": [
    "cl_predict = predict_cl(t, ya0, model, param_adim, mean_std, nb_disc_theta=1000)\n",
    "time, cl_true = true_cl(num=num, case=2, time_init=hyper_param['t_min'], time_max=hyper_param['t_max'])\n",
    "with torch.no_grad():\n",
    "    plt.plot(t, cl_predict, color = 'red', label = 'Predict Cl', linewidth=0.8)\n",
    "    plt.plot(time, cl_true, label = 'True Cl', color='blue', linewidth=0.8)"
   ]
  },
  {
   "cell_type": "code",
   "execution_count": 14,
   "metadata": {},
   "outputs": [],
   "source": [
    "def piche(t, ya0, model, param_adim, mean_std, r=0.025 / 2, nb_disc_theta=500):\n",
    "    \"\"\"\n",
    "    Args:\n",
    "        t_ad (torch.tensor): Les temps où on veut Cl\n",
    "        ya0 (float) : la valeur d'amplitude pour estimer notre Cl\n",
    "        model (torch.model): le NN qui prédit \n",
    "        param_adim (dict): dictionnaire des param d'adim\n",
    "        mean_std (dict): donne de quoi faire la normalisation Z\n",
    "        r (float): le rayon du cylindre\n",
    "        nb_disc_theta(int): sur combien de theta on discrétise\n",
    "\n",
    "    Returns:\n",
    "        Cl (torch.float):  les valeurs de pression sur le cylindre\n",
    "    \"\"\"\n",
    "    time_repeat = torch.repeat_interleave(t, repeats=nb_disc_theta)\n",
    "    d_theta = 2 * torch.pi / nb_disc_theta\n",
    "    theta_int = torch.linspace(0, 2*torch.pi, nb_disc_theta)\n",
    "    theta_tot = theta_int.repeat(t.shape[0])\n",
    "    pressure_tot = P(theta_tot, time_repeat, ya0, model, param_adim, mean_std, r = 0.025 / 2).reshape(t.shape[0], nb_disc_theta) # (t.shape, nb_disc_theta)\n",
    "    in_sum = pressure_tot * torch.sin(theta_int) * r * d_theta\n",
    "    portance = - torch.sum(in_sum, dim=1)\n",
    "    return portance / (0.5 * param_adim['rho'] * param_adim['V']**2 * 2 * r)"
   ]
  },
  {
   "cell_type": "code",
   "execution_count": 15,
   "metadata": {},
   "outputs": [
    {
     "ename": "NameError",
     "evalue": "name 'mean_std' is not defined",
     "output_type": "error",
     "traceback": [
      "\u001b[0;31m---------------------------------------------------------------------------\u001b[0m",
      "\u001b[0;31mNameError\u001b[0m                                 Traceback (most recent call last)",
      "Cell \u001b[0;32mIn[15], line 3\u001b[0m\n\u001b[1;32m      1\u001b[0m theta_int  \u001b[38;5;241m=\u001b[39m torch\u001b[38;5;241m.\u001b[39mones(\u001b[38;5;241m1\u001b[39m) \u001b[38;5;241m*\u001b[39m \u001b[38;5;241m3\u001b[39m\u001b[38;5;241m*\u001b[39m torch\u001b[38;5;241m.\u001b[39mpi \u001b[38;5;241m/\u001b[39m\u001b[38;5;241m2\u001b[39m\n\u001b[1;32m      2\u001b[0m theta_tot \u001b[38;5;241m=\u001b[39m theta_int\u001b[38;5;241m.\u001b[39mrepeat(t\u001b[38;5;241m.\u001b[39mshape[\u001b[38;5;241m0\u001b[39m])\n\u001b[0;32m----> 3\u001b[0m cl_predict2 \u001b[38;5;241m=\u001b[39m P(theta_tot, t, ya0, model, param_adim, \u001b[43mmean_std\u001b[49m)\n",
      "\u001b[0;31mNameError\u001b[0m: name 'mean_std' is not defined"
     ]
    }
   ],
   "source": [
    "theta_int  = torch.ones(1) * 3* torch.pi /2\n",
    "theta_tot = theta_int.repeat(t.shape[0])\n",
    "cl_predict2 = P(theta_tot, t, ya0, model, param_adim, mean_std)"
   ]
  },
  {
   "cell_type": "code",
   "execution_count": null,
   "metadata": {},
   "outputs": [
    {
     "ename": "NameError",
     "evalue": "name 'mean_std' is not defined",
     "output_type": "error",
     "traceback": [
      "\u001b[0;31m---------------------------------------------------------------------------\u001b[0m",
      "\u001b[0;31mNameError\u001b[0m                                 Traceback (most recent call last)",
      "Cell \u001b[0;32mIn[16], line 1\u001b[0m\n\u001b[0;32m----> 1\u001b[0m cl_predict \u001b[38;5;241m=\u001b[39m piche(t, ya0, model, param_adim, \u001b[43mmean_std\u001b[49m, nb_disc_theta\u001b[38;5;241m=\u001b[39m\u001b[38;5;241m1000\u001b[39m)\n\u001b[1;32m      2\u001b[0m time, cl_true \u001b[38;5;241m=\u001b[39m true_cl(num\u001b[38;5;241m=\u001b[39mnum, case\u001b[38;5;241m=\u001b[39m\u001b[38;5;241m2\u001b[39m, time_init\u001b[38;5;241m=\u001b[39mhyper_param[\u001b[38;5;124m'\u001b[39m\u001b[38;5;124mt_min\u001b[39m\u001b[38;5;124m'\u001b[39m], time_max\u001b[38;5;241m=\u001b[39mhyper_param[\u001b[38;5;124m'\u001b[39m\u001b[38;5;124mt_max\u001b[39m\u001b[38;5;124m'\u001b[39m])\n\u001b[1;32m      3\u001b[0m \u001b[38;5;28;01mwith\u001b[39;00m torch\u001b[38;5;241m.\u001b[39mno_grad():\n",
      "\u001b[0;31mNameError\u001b[0m: name 'mean_std' is not defined"
     ]
    }
   ],
   "source": [
    "cl_predict = piche(t, ya0, model, param_adim, mean_std, nb_disc_theta=1000)\n",
    "time, cl_true = true_cl(num=num, case=2, time_init=hyper_param['t_min'], time_max=hyper_param['t_max'])\n",
    "with torch.no_grad():\n",
    "    plt.plot(t, cl_predict, color = 'blue', label = 'Predict Cl', linewidth=0.8)\n",
    "    plt.plot(t, cl_predict2, label='pressure')\n",
    "    plt.plot(time, cl_true, label = 'True Cl', color='red', linewidth=0.8)\n",
    "    plt.legend()"
   ]
  },
  {
   "cell_type": "code",
   "execution_count": null,
   "metadata": {},
   "outputs": [],
   "source": []
  },
  {
   "cell_type": "markdown",
   "metadata": {},
   "source": [
    "## On essaye d'avoir la différence de phase "
   ]
  },
  {
   "cell_type": "code",
   "execution_count": 17,
   "metadata": {},
   "outputs": [],
   "source": [
    "from scipy.signal import hilbert"
   ]
  },
  {
   "cell_type": "code",
   "execution_count": 18,
   "metadata": {},
   "outputs": [],
   "source": [
    "def find_true_diff_phase(num, case, time_init, time_max, ya0, param_adim):\n",
    "    \"\"\"\n",
    "    Args:\n",
    "        num (int): Le numéro du modèle\n",
    "        case (int): Le numéro du case\n",
    "\n",
    "    Returns:\n",
    "        None:  plot les courbes de Cl\n",
    "    \"\"\"\n",
    "    df = pd.read_csv(f'results_Cl/model_{num}_case_{case}/Cl.csv', index_col=False)\n",
    "    df_modified = df[((df.iloc[:, 2] > time_init) & (df.iloc[:, 2] < time_max))]\n",
    "    time = df_modified.iloc[:, 2].to_numpy()\n",
    "    cl = df_modified.iloc[:, 1].to_numpy()\n",
    "    plt.plot(time, cl, label = 'True Cl', color='blue', linewidth=0.8)\n",
    "    return None"
   ]
  },
  {
   "cell_type": "code",
   "execution_count": 19,
   "metadata": {},
   "outputs": [],
   "source": [
    "def diff_phase_predict(cl, ya0, hyper_param, t):\n",
    "    \"\"\"\n",
    "    Args:\n",
    "        cl (numpy.array): cl a différents temps\n",
    "        ya0 (float) : la valeur d'amplitude pour estimer notre Cl\n",
    "        hyper_param (dict): les hyperparamètres\n",
    "\n",
    "    Returns:\n",
    "        DphaseH (np.array): la valeur de la différence de phase en fonction du temps\n",
    "        mean (float): la moyenne de différence de phase du signal cl avec la vitesse du cylindre\n",
    "        rms (float): la std de la différence de phase du signal cl avec la vitesse du cylindre\n",
    "    \"\"\"\n",
    "    w_0 = (hyper_param[\"H\"] / hyper_param[\"m\"]) ** 0.5\n",
    "    analytic_signal1 = hilbert(cl)\n",
    "    instantaneous_phase1 = np.unwrap(np.angle(analytic_signal1))\n",
    "    cylinder_velocity = np.sin(w_0 * t)\n",
    "    instantaneous_phase2 = np.unwrap(np.angle(hilbert(cylinder_velocity)))\n",
    "\n",
    "    DphaseH = instantaneous_phase2-instantaneous_phase1\n",
    "    mean = np.mean(DphaseH)\n",
    "    rms = np.std(DphaseH)\n",
    "    return DphaseH, mean, rms\n",
    "\n",
    "    "
   ]
  },
  {
   "cell_type": "code",
   "execution_count": 20,
   "metadata": {},
   "outputs": [
    {
     "ename": "NameError",
     "evalue": "name 'mean_std' is not defined",
     "output_type": "error",
     "traceback": [
      "\u001b[0;31m---------------------------------------------------------------------------\u001b[0m",
      "\u001b[0;31mNameError\u001b[0m                                 Traceback (most recent call last)",
      "Cell \u001b[0;32mIn[20], line 1\u001b[0m\n\u001b[0;32m----> 1\u001b[0m cl \u001b[38;5;241m=\u001b[39m predict_cl(t\u001b[38;5;241m=\u001b[39mt,ya0\u001b[38;5;241m=\u001b[39m\u001b[38;5;241m0.0025\u001b[39m, model\u001b[38;5;241m=\u001b[39mmodel, param_adim\u001b[38;5;241m=\u001b[39mparam_adim, mean_std\u001b[38;5;241m=\u001b[39m\u001b[43mmean_std\u001b[49m, nb_disc_theta\u001b[38;5;241m=\u001b[39m\u001b[38;5;241m1000\u001b[39m)\u001b[38;5;241m.\u001b[39mdetach()\u001b[38;5;241m.\u001b[39mnumpy()\n\u001b[1;32m      2\u001b[0m DphaseH, mean, rms \u001b[38;5;241m=\u001b[39m diff_phase_predict(cl, ya0, hyper_param, t\u001b[38;5;241m.\u001b[39mdetach()\u001b[38;5;241m.\u001b[39mnumpy())\n",
      "\u001b[0;31mNameError\u001b[0m: name 'mean_std' is not defined"
     ]
    }
   ],
   "source": [
    "cl = predict_cl(t=t,ya0=0.0025, model=model, param_adim=param_adim, mean_std=mean_std, nb_disc_theta=1000).detach().numpy()\n",
    "DphaseH, mean, rms = diff_phase_predict(cl, ya0, hyper_param, t.detach().numpy())\n"
   ]
  },
  {
   "cell_type": "code",
   "execution_count": 21,
   "metadata": {},
   "outputs": [
    {
     "ename": "NameError",
     "evalue": "name 'true_cl' is not defined",
     "output_type": "error",
     "traceback": [
      "\u001b[0;31m---------------------------------------------------------------------------\u001b[0m",
      "\u001b[0;31mNameError\u001b[0m                                 Traceback (most recent call last)",
      "Cell \u001b[0;32mIn[21], line 1\u001b[0m\n\u001b[0;32m----> 1\u001b[0m time, cl_true \u001b[38;5;241m=\u001b[39m \u001b[43mtrue_cl\u001b[49m(num\u001b[38;5;241m=\u001b[39m\u001b[38;5;241m2\u001b[39m, case\u001b[38;5;241m=\u001b[39m\u001b[38;5;241m2\u001b[39m, time_init\u001b[38;5;241m=\u001b[39mhyper_param[\u001b[38;5;124m'\u001b[39m\u001b[38;5;124mt_min\u001b[39m\u001b[38;5;124m'\u001b[39m], time_max\u001b[38;5;241m=\u001b[39mhyper_param[\u001b[38;5;124m'\u001b[39m\u001b[38;5;124mt_max\u001b[39m\u001b[38;5;124m'\u001b[39m])\n\u001b[1;32m      2\u001b[0m DphaseH2, mean2, rms2 \u001b[38;5;241m=\u001b[39m diff_phase_predict(cl_true, ya0, hyper_param, t\u001b[38;5;241m=\u001b[39mtime)\n",
      "\u001b[0;31mNameError\u001b[0m: name 'true_cl' is not defined"
     ]
    }
   ],
   "source": [
    "time, cl_true = true_cl(num=2, case=2, time_init=hyper_param['t_min'], time_max=hyper_param['t_max'])\n",
    "DphaseH2, mean2, rms2 = diff_phase_predict(cl_true, ya0, hyper_param, t=time)"
   ]
  },
  {
   "cell_type": "code",
   "execution_count": 22,
   "metadata": {},
   "outputs": [
    {
     "ename": "NameError",
     "evalue": "name 'mean2' is not defined",
     "output_type": "error",
     "traceback": [
      "\u001b[0;31m---------------------------------------------------------------------------\u001b[0m",
      "\u001b[0;31mNameError\u001b[0m                                 Traceback (most recent call last)",
      "Cell \u001b[0;32mIn[22], line 1\u001b[0m\n\u001b[0;32m----> 1\u001b[0m \u001b[43mmean2\u001b[49m\n",
      "\u001b[0;31mNameError\u001b[0m: name 'mean2' is not defined"
     ]
    }
   ],
   "source": [
    "mean2"
   ]
  },
  {
   "cell_type": "code",
   "execution_count": 23,
   "metadata": {},
   "outputs": [
    {
     "ename": "NameError",
     "evalue": "name 'DphaseH2' is not defined",
     "output_type": "error",
     "traceback": [
      "\u001b[0;31m---------------------------------------------------------------------------\u001b[0m",
      "\u001b[0;31mNameError\u001b[0m                                 Traceback (most recent call last)",
      "Cell \u001b[0;32mIn[23], line 1\u001b[0m\n\u001b[0;32m----> 1\u001b[0m plt\u001b[38;5;241m.\u001b[39mplot(time, \u001b[43mDphaseH2\u001b[49m)\n\u001b[1;32m      2\u001b[0m plt\u001b[38;5;241m.\u001b[39mplot(t, DphaseH)\n",
      "\u001b[0;31mNameError\u001b[0m: name 'DphaseH2' is not defined"
     ]
    }
   ],
   "source": [
    "plt.plot(time, DphaseH2)\n",
    "plt.plot(t, DphaseH)"
   ]
  },
  {
   "cell_type": "code",
   "execution_count": 24,
   "metadata": {},
   "outputs": [
    {
     "ename": "NameError",
     "evalue": "name 'mean' is not defined",
     "output_type": "error",
     "traceback": [
      "\u001b[0;31m---------------------------------------------------------------------------\u001b[0m",
      "\u001b[0;31mNameError\u001b[0m                                 Traceback (most recent call last)",
      "Cell \u001b[0;32mIn[24], line 1\u001b[0m\n\u001b[0;32m----> 1\u001b[0m \u001b[43mmean\u001b[49m\n",
      "\u001b[0;31mNameError\u001b[0m: name 'mean' is not defined"
     ]
    }
   ],
   "source": [
    "mean"
   ]
  },
  {
   "cell_type": "code",
   "execution_count": 25,
   "metadata": {},
   "outputs": [
    {
     "ename": "NameError",
     "evalue": "name 'hyper' is not defined",
     "output_type": "error",
     "traceback": [
      "\u001b[0;31m---------------------------------------------------------------------------\u001b[0m",
      "\u001b[0;31mNameError\u001b[0m                                 Traceback (most recent call last)",
      "Cell \u001b[0;32mIn[25], line 1\u001b[0m\n\u001b[0;32m----> 1\u001b[0m \u001b[43mhyper\u001b[49m\n",
      "\u001b[0;31mNameError\u001b[0m: name 'hyper' is not defined"
     ]
    }
   ],
   "source": [
    "hyper"
   ]
  },
  {
   "cell_type": "code",
   "execution_count": 136,
   "metadata": {},
   "outputs": [
    {
     "name": "stderr",
     "output_type": "stream",
     "text": [
      "/tmp/ipykernel_4236/2140280397.py:1: DeprecationWarning: __array_wrap__ must accept context and return_scalar arguments (positionally) in the future. (Deprecated NumPy 2.0)\n",
      "  cl_piche = np.sin(w_0 * t + 0.3)\n"
     ]
    }
   ],
   "source": [
    "cl_piche = np.sin(w_0 * t + 0.3)"
   ]
  },
  {
   "cell_type": "code",
   "execution_count": 140,
   "metadata": {},
   "outputs": [],
   "source": [
    "DphaseH, mean, rms = diff_phase_predict(cl_piche, ya0, hyper_param, t.detach().numpy())"
   ]
  },
  {
   "cell_type": "code",
   "execution_count": 141,
   "metadata": {},
   "outputs": [
    {
     "data": {
      "text/plain": [
       "np.float32(-0.29166788)"
      ]
     },
     "execution_count": 141,
     "metadata": {},
     "output_type": "execute_result"
    }
   ],
   "source": [
    "mean"
   ]
  },
  {
   "cell_type": "code",
   "execution_count": 142,
   "metadata": {},
   "outputs": [
    {
     "data": {
      "text/plain": [
       "np.float32(0.01179105)"
      ]
     },
     "execution_count": 142,
     "metadata": {},
     "output_type": "execute_result"
    }
   ],
   "source": [
    "rms"
   ]
  },
  {
   "cell_type": "code",
   "execution_count": 143,
   "metadata": {},
   "outputs": [
    {
     "data": {
      "text/plain": [
       "[<matplotlib.lines.Line2D at 0x7fbfac92ee10>]"
      ]
     },
     "execution_count": 143,
     "metadata": {},
     "output_type": "execute_result"
    },
    {
     "data": {
      "image/png": "[encoded data removed]",
      "text/plain": [
       "<Figure size 640x480 with 1 Axes>"
      ]
     },
     "metadata": {},
     "output_type": "display_data"
    }
   ],
   "source": [
    "plt.plot(t.detach().numpy(), DphaseH)"
   ]
  },
  {
   "cell_type": "code",
   "execution_count": 99,
   "metadata": {},
   "outputs": [
    {
     "data": {
      "text/plain": [
       "np.float32(0.01179105)"
      ]
     },
     "execution_count": 99,
     "metadata": {},
     "output_type": "execute_result"
    }
   ],
   "source": [
    "rms"
   ]
  },
  {
   "cell_type": "code",
   "execution_count": 101,
   "metadata": {},
   "outputs": [
    {
     "data": {
      "text/plain": [
       "np.float32(-0.29166788)"
      ]
     },
     "execution_count": 101,
     "metadata": {},
     "output_type": "execute_result"
    }
   ],
   "source": [
    "mean"
   ]
  },
  {
   "cell_type": "code",
   "execution_count": 113,
   "metadata": {},
   "outputs": [
    {
     "data": {
      "text/plain": [
       "np.float32(0.0)"
      ]
     },
     "execution_count": 113,
     "metadata": {},
     "output_type": "execute_result"
    }
   ],
   "source": [
    "mean"
   ]
  },
  {
   "cell_type": "code",
   "execution_count": 112,
   "metadata": {},
   "outputs": [
    {
     "data": {
      "text/plain": [
       "[<matplotlib.lines.Line2D at 0x7fbfdce5d4c0>]"
      ]
     },
     "execution_count": 112,
     "metadata": {},
     "output_type": "execute_result"
    },
    {
     "data": {
      "image/png": "[encoded data removed]",
      "text/plain": [
       "<Figure size 640x480 with 1 Axes>"
      ]
     },
     "metadata": {},
     "output_type": "display_data"
    }
   ],
   "source": [
    "plt.plot(t.detach().numpy(), DphaseH)\n"
   ]
  },
  {
   "cell_type": "code",
   "execution_count": 79,
   "metadata": {},
   "outputs": [
    {
     "data": {
      "text/plain": [
       "np.float32(-6.987098)"
      ]
     },
     "execution_count": 79,
     "metadata": {},
     "output_type": "execute_result"
    }
   ],
   "source": [
    "mean"
   ]
  },
  {
   "cell_type": "code",
   "execution_count": 81,
   "metadata": {},
   "outputs": [
    {
     "data": {
      "text/plain": [
       "np.float32(3.6488428)"
      ]
     },
     "execution_count": 81,
     "metadata": {},
     "output_type": "execute_result"
    }
   ],
   "source": [
    "rms"
   ]
  },
  {
   "cell_type": "code",
   "execution_count": 80,
   "metadata": {},
   "outputs": [
    {
     "data": {
      "text/plain": [
       "np.float64(-6.622432046880976)"
      ]
     },
     "execution_count": 80,
     "metadata": {},
     "output_type": "execute_result"
    }
   ],
   "source": [
    "mean2"
   ]
  },
  {
   "cell_type": "code",
   "execution_count": 82,
   "metadata": {},
   "outputs": [
    {
     "data": {
      "text/plain": [
       "np.float64(3.7214993615768397)"
      ]
     },
     "execution_count": 82,
     "metadata": {},
     "output_type": "execute_result"
    }
   ],
   "source": [
    "rms2"
   ]
  },
  {
   "cell_type": "code",
   "execution_count": null,
   "metadata": {},
   "outputs": [],
   "source": [
    "cl2 = "
   ]
  },
  {
   "cell_type": "code",
   "execution_count": null,
   "metadata": {},
   "outputs": [],
   "source": [
    "cl_true = num=2"
   ]
  },
  {
   "cell_type": "code",
   "execution_count": 18,
   "metadata": {},
   "outputs": [
    {
     "data": {
      "text/plain": [
       "[<matplotlib.lines.Line2D at 0x7fa0a09383e0>]"
      ]
     },
     "execution_count": 18,
     "metadata": {},
     "output_type": "execute_result"
    },
    {
     "data": {
      "image/png": "[encoded data removed]",
      "text/plain": [
       "<Figure size 640x480 with 1 Axes>"
      ]
     },
     "metadata": {},
     "output_type": "display_data"
    }
   ],
   "source": [
    "plt.plot(t, DphaseH)"
   ]
  },
  {
   "cell_type": "code",
   "execution_count": 19,
   "metadata": {},
   "outputs": [
    {
     "data": {
      "text/plain": [
       "np.float32(-7.0628138)"
      ]
     },
     "execution_count": 19,
     "metadata": {},
     "output_type": "execute_result"
    }
   ],
   "source": [
    "mean"
   ]
  },
  {
   "cell_type": "code",
   "execution_count": 20,
   "metadata": {},
   "outputs": [
    {
     "data": {
      "text/plain": [
       "np.float32(4.174604)"
      ]
     },
     "execution_count": 20,
     "metadata": {},
     "output_type": "execute_result"
    }
   ],
   "source": [
    "rms"
   ]
  },
  {
   "cell_type": "code",
   "execution_count": 93,
   "metadata": {},
   "outputs": [],
   "source": [
    "w_0 = (hyper_param[\"H\"] / hyper_param[\"m\"]) ** 0.5\n",
    "analytic_signal1 = hilbert(cl.detach().numpy())\n",
    "instantaneous_phase1 = np.unwrap(np.angle(analytic_signal1))\n",
    "\n",
    "cylinder_velocity = - ya0 * w_0 * np.sin(w_0 * t.detach().numpy())\n",
    "instantaneous_phase2 = np.unwrap(np.angle(cylinder_velocity))\n",
    "\n",
    "DphaseH = instantaneous_phase2-instantaneous_phase1\n",
    "mean = np.mean(DphaseH)\n",
    "rms = np.std(DphaseH)"
   ]
  },
  {
   "cell_type": "code",
   "execution_count": 94,
   "metadata": {},
   "outputs": [
    {
     "data": {
      "text/plain": [
       "np.float32(-7.060839)"
      ]
     },
     "execution_count": 94,
     "metadata": {},
     "output_type": "execute_result"
    }
   ],
   "source": [
    "mean"
   ]
  },
  {
   "cell_type": "code",
   "execution_count": 96,
   "metadata": {},
   "outputs": [
    {
     "data": {
      "text/plain": [
       "np.float32(4.164276)"
      ]
     },
     "execution_count": 96,
     "metadata": {},
     "output_type": "execute_result"
    }
   ],
   "source": [
    "rms"
   ]
  },
  {
   "cell_type": "code",
   "execution_count": null,
   "metadata": {},
   "outputs": [
    {
     "data": {
      "text/plain": [
       "[<matplotlib.lines.Line2D at 0x7f27b135d070>]"
      ]
     },
     "execution_count": 97,
     "metadata": {},
     "output_type": "execute_result"
    },
    {
     "data": {
      "image/png": "[encoded data removed]",
      "text/plain": [
       "<Figure size 640x480 with 1 Axes>"
      ]
     },
     "metadata": {},
     "output_type": "display_data"
    }
   ],
   "source": [
    "plt.plot(t, DphaseH)"
   ]
  },
  {
   "cell_type": "code",
   "execution_count": 88,
   "metadata": {},
   "outputs": [
    {
     "data": {
      "text/plain": [
       "np.float32(4.0255566)"
      ]
     },
     "execution_count": 88,
     "metadata": {},
     "output_type": "execute_result"
    }
   ],
   "source": [
    "rms"
   ]
  },
  {
   "cell_type": "code",
   "execution_count": 80,
   "metadata": {},
   "outputs": [
    {
     "data": {
      "text/plain": [
       "12.121203194360733"
      ]
     },
     "execution_count": 80,
     "metadata": {},
     "output_type": "execute_result"
    }
   ],
   "source": [
    "w_0"
   ]
  },
  {
   "cell_type": "code",
   "execution_count": null,
   "metadata": {},
   "outputs": [],
   "source": []
  }
 ],
 "metadata": {
  "kernelspec": {
   "display_name": "base",
   "language": "python",
   "name": "python3"
  },
  "language_info": {
   "codemirror_mode": {
    "name": "ipython",
    "version": 3
   },
   "file_extension": ".py",
   "mimetype": "text/x-python",
   "name": "python",
   "nbconvert_exporter": "python",
   "pygments_lexer": "ipython3",
   "version": "3.12.7"
  }
 },
 "nbformat": 4,
 "nbformat_minor": 2
}
