{
 "cells": [
  {
   "cell_type": "code",
   "execution_count": 1,
   "metadata": {},
   "outputs": [],
   "source": [
    "import pandas as pd"
   ]
  },
  {
   "cell_type": "code",
   "execution_count": 2,
   "metadata": {},
   "outputs": [],
   "source": [
    "hyper_param = {\n",
    "    \"H\": 230.67,  # la rigidité du ressort\n",
    "    \"ya0\": [\n",
    "        0.0025,\n",
    "        0.0125,\n",
    "        # 0.00375,\n",
    "        # 0.00625,\n",
    "        # 0.00875,\n",
    "    ],  # la position initiale du ressort\n",
    "    \"m\": 1.57,  # la masse du ressort\n",
    "    \"file\": [\n",
    "        \"data_john_1_case_2.csv\",\n",
    "        \"data_john_3_case_2.csv\",\n",
    "        'data_john_6_case_2.csv',\n",
    "        'data_john_8_case_2.csv',\n",
    "    ],\n",
    "    \"nb_epoch\": 1000,  # epoch number\n",
    "    \"save_rate\": 20,  # rate to save\n",
    "    \"dynamic_weights\": True,\n",
    "    \"lr_weights\": 1e-1,  # si dynamic weights\n",
    "    \"weight_data\": 1.0,\n",
    "    \"weight_pde\": 1.0,\n",
    "    \"weight_border\": 1.0,\n",
    "    \"batch_size\": 10000,  # for the pde\n",
    "    \"nb_points_pde\": 1000000,  # Total number of pde points\n",
    "    \"Re\": 100,\n",
    "    \"lr_init\": 0.001,\n",
    "    \"gamma_scheduler\": 0.999,  # pour la lr\n",
    "    \"nb_layers\": 2,\n",
    "    \"nb_neurons\": 32,\n",
    "    \"n_pde_test\": 5000,\n",
    "    \"n_data_test\": 5000,\n",
    "    \"nb_points_axes\": 12,  # le nombre de points pris par axe par pas de temps\n",
    "    \"x_min\": -0.1,\n",
    "    \"x_max\": 0.1,\n",
    "    \"y_min\": -0.06,\n",
    "    \"y_max\": 0.06,\n",
    "    \"t_min\": 6.5,\n",
    "    \"t_max\": 8,\n",
    "    \"nb_points_close_cylinder\": 50,  # le nombre de points proches du cylindre\n",
    "    \"nb_points_border\": 25,  # le nombrede points sur la condition init\n",
    "}\n",
    "\n",
    "param_adim = {\"V\": 1.0, \"L\": 0.025, \"rho\": 1.2}\n",
    "\n"
   ]
  },
  {
   "cell_type": "code",
   "execution_count": 15,
   "metadata": {},
   "outputs": [],
   "source": [
    "name = 'data/data_john_8_case_2.csv'"
   ]
  },
  {
   "cell_type": "code",
   "execution_count": 16,
   "metadata": {},
   "outputs": [],
   "source": [
    "df = pd.read_csv(name)"
   ]
  },
  {
   "cell_type": "code",
   "execution_count": 17,
   "metadata": {},
   "outputs": [],
   "source": [
    "df_modified = df.loc[\n",
    "        (df[\"Points:0\"] >= hyper_param[\"x_min\"])\n",
    "        & (df[\"Points:0\"] <= hyper_param[\"x_max\"])\n",
    "        & (df[\"Points:1\"] >= hyper_param[\"y_min\"])\n",
    "        & (df[\"Points:1\"] <= hyper_param[\"y_max\"])\n",
    "        & (df[\"Time\"] > hyper_param[\"t_min\"])\n",
    "        & (df[\"Time\"] < hyper_param[\"t_max\"])\n",
    "        & (df[\"Points:2\"] == 0.0)\n",
    "        # pour ne pas avoir dans le cylindre\n",
    "        & (df[\"Points:0\"] ** 2 + df[\"Points:1\"] ** 2 > (0.025 / 2) ** 2),\n",
    "        :,\n",
    "    ].copy()"
   ]
  },
  {
   "cell_type": "code",
   "execution_count": 18,
   "metadata": {},
   "outputs": [],
   "source": [
    "df_modified.to_csv(name, index=False)"
   ]
  },
  {
   "cell_type": "code",
   "execution_count": 33,
   "metadata": {},
   "outputs": [
    {
     "data": {
      "text/plain": [
       "(387594, 8)"
      ]
     },
     "execution_count": 33,
     "metadata": {},
     "output_type": "execute_result"
    }
   ],
   "source": [
    "df_modified.shape"
   ]
  },
  {
   "cell_type": "code",
   "execution_count": null,
   "metadata": {},
   "outputs": [],
   "source": []
  }
 ],
 "metadata": {
  "kernelspec": {
   "display_name": "base",
   "language": "python",
   "name": "python3"
  },
  "language_info": {
   "codemirror_mode": {
    "name": "ipython",
    "version": 3
   },
   "file_extension": ".py",
   "mimetype": "text/x-python",
   "name": "python",
   "nbconvert_exporter": "python",
   "pygments_lexer": "ipython3",
   "version": "3.12.7"
  }
 },
 "nbformat": 4,
 "nbformat_minor": 2
}
